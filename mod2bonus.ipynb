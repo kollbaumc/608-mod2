{
 "cells": [
  {
   "cell_type": "code",
   "execution_count": 1,
   "id": "22ee1014-9a6f-49e9-9d20-58ba06610c95",
   "metadata": {},
   "outputs": [],
   "source": [
    "student = [2, 4, 3, 5, 5, 5, 3, 2, 1, 2, 2, 2, 5, 0, 0, 1, 1, 1, 2, 3, 4, 3, 3, 3, 3, 5, 5, 5, 5, 5, 5, 5, 4, 3, 4, 5, 5, 5, 1, 0, 5, 5, 5, 4, 3, 2, 2, 2, 2, 3, 3, 5, 5, 5, 5, 5, 5, 4, 0, 1, 1, 1, 2, 5, 5, 5, 5, 4, 5, 5, 4, 1, 2, 1, 3, 4, 3, 5, 5, 5, 0, 1, 1, 1, 2, 5, 5, 4, 5, 3, 2, 1, 1, 0, 5, 5, 5, 4, 5, 3, 0, 1, 2, 3, 3, 5, 5, 5, 5, 3, 1, 1, 5, 5, 5, 1]"
   ]
  },
  {
   "cell_type": "code",
   "execution_count": 2,
   "id": "8ed0c0c9-ab4a-4758-b771-a5a8a2e8ca7b",
   "metadata": {},
   "outputs": [
    {
     "data": {
      "text/plain": [
       "116"
      ]
     },
     "execution_count": 2,
     "metadata": {},
     "output_type": "execute_result"
    }
   ],
   "source": [
    "len(student)"
   ]
  },
  {
   "cell_type": "code",
   "execution_count": 3,
   "id": "e4131b2b-ffdb-44eb-ba07-9bf9c6de793a",
   "metadata": {},
   "outputs": [
    {
     "data": {
      "text/plain": [
       "377"
      ]
     },
     "execution_count": 3,
     "metadata": {},
     "output_type": "execute_result"
    }
   ],
   "source": [
    "sum(student)"
   ]
  },
  {
   "cell_type": "code",
   "execution_count": 4,
   "id": "79a09f4e-7559-46da-ad88-9ca92aef6783",
   "metadata": {},
   "outputs": [
    {
     "data": {
      "text/plain": [
       "3.25"
      ]
     },
     "execution_count": 4,
     "metadata": {},
     "output_type": "execute_result"
    }
   ],
   "source": [
    "sum(student)/len(student)"
   ]
  },
  {
   "cell_type": "code",
   "execution_count": 5,
   "id": "f284f8ce-3e49-4e8d-88e7-1e4ea82f8e25",
   "metadata": {},
   "outputs": [],
   "source": [
    "import statistics"
   ]
  },
  {
   "cell_type": "code",
   "execution_count": 6,
   "id": "85e9eee1-e66b-4118-9bdf-22534ecce1b8",
   "metadata": {},
   "outputs": [
    {
     "data": {
      "text/plain": [
       "3.25"
      ]
     },
     "execution_count": 6,
     "metadata": {},
     "output_type": "execute_result"
    }
   ],
   "source": [
    "statistics.mean(student)"
   ]
  },
  {
   "cell_type": "code",
   "execution_count": 7,
   "id": "9a6dc556-1d53-46e7-bea5-560dfe22d494",
   "metadata": {},
   "outputs": [
    {
     "data": {
      "text/plain": [
       "3.0"
      ]
     },
     "execution_count": 7,
     "metadata": {},
     "output_type": "execute_result"
    }
   ],
   "source": [
    "statistics.median(student)"
   ]
  },
  {
   "cell_type": "code",
   "execution_count": 8,
   "id": "dca99a05-bf7b-4963-bead-d153760659ce",
   "metadata": {},
   "outputs": [
    {
     "data": {
      "text/plain": [
       "5"
      ]
     },
     "execution_count": 8,
     "metadata": {},
     "output_type": "execute_result"
    }
   ],
   "source": [
    "statistics.mode(student)"
   ]
  },
  {
   "cell_type": "code",
   "execution_count": null,
   "id": "dd300ee3-3a0a-4893-b36f-c5dc3220c422",
   "metadata": {},
   "outputs": [],
   "source": [
    "Chris Kollbaum"
   ]
  }
 ],
 "metadata": {
  "kernelspec": {
   "display_name": "Python 3 (ipykernel)",
   "language": "python",
   "name": "python3"
  },
  "language_info": {
   "codemirror_mode": {
    "name": "ipython",
    "version": 3
   },
   "file_extension": ".py",
   "mimetype": "text/x-python",
   "name": "python",
   "nbconvert_exporter": "python",
   "pygments_lexer": "ipython3",
   "version": "3.9.12"
  }
 },
 "nbformat": 4,
 "nbformat_minor": 5
}
