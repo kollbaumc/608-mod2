{
 "cells": [
  {
   "cell_type": "code",
   "execution_count": 9,
   "id": "39dcd27f-001f-41e4-a4bc-e2df70e3029c",
   "metadata": {},
   "outputs": [],
   "source": [
    "values = [23, 54, 23, 45, 67, 98, 105, 56, 23]"
   ]
  },
  {
   "cell_type": "code",
   "execution_count": 10,
   "id": "d7c5fde3-6ae1-421a-a4b1-cde7d2cf5d66",
   "metadata": {},
   "outputs": [
    {
     "data": {
      "text/plain": [
       "9"
      ]
     },
     "execution_count": 10,
     "metadata": {},
     "output_type": "execute_result"
    }
   ],
   "source": [
    "len(values)"
   ]
  },
  {
   "cell_type": "code",
   "execution_count": 11,
   "id": "7a6e4092-d347-47f6-b7b0-b1c5c7742b80",
   "metadata": {},
   "outputs": [
    {
     "data": {
      "text/plain": [
       "494"
      ]
     },
     "execution_count": 11,
     "metadata": {},
     "output_type": "execute_result"
    }
   ],
   "source": [
    "sum(values)"
   ]
  },
  {
   "cell_type": "code",
   "execution_count": 12,
   "id": "fac379fb-339b-4e72-a9d3-2bd5464480c3",
   "metadata": {},
   "outputs": [
    {
     "data": {
      "text/plain": [
       "54.888888888888886"
      ]
     },
     "execution_count": 12,
     "metadata": {},
     "output_type": "execute_result"
    }
   ],
   "source": [
    "sum(values)/len(values)"
   ]
  },
  {
   "cell_type": "code",
   "execution_count": 13,
   "id": "d21f7656-63df-4552-9466-42ee45be5ebc",
   "metadata": {},
   "outputs": [],
   "source": [
    "import statistics"
   ]
  },
  {
   "cell_type": "code",
   "execution_count": 14,
   "id": "ddd937e4-2c42-49cb-ac33-80481e35ced7",
   "metadata": {},
   "outputs": [
    {
     "data": {
      "text/plain": [
       "54.888888888888886"
      ]
     },
     "execution_count": 14,
     "metadata": {},
     "output_type": "execute_result"
    }
   ],
   "source": [
    "statistics.mean(values)"
   ]
  },
  {
   "cell_type": "code",
   "execution_count": 15,
   "id": "f260fa95-4054-4434-a558-809d96976a34",
   "metadata": {},
   "outputs": [
    {
     "data": {
      "text/plain": [
       "54"
      ]
     },
     "execution_count": 15,
     "metadata": {},
     "output_type": "execute_result"
    }
   ],
   "source": [
    "statistics.median(values)"
   ]
  },
  {
   "cell_type": "code",
   "execution_count": 16,
   "id": "764f8dea-8e34-45a3-934b-dc828bf8f510",
   "metadata": {},
   "outputs": [
    {
     "data": {
      "text/plain": [
       "23"
      ]
     },
     "execution_count": 16,
     "metadata": {},
     "output_type": "execute_result"
    }
   ],
   "source": [
    "statistics.mode(values)"
   ]
  },
  {
   "cell_type": "code",
   "execution_count": 17,
   "id": "e029f346-955f-425a-aed9-74fa19f2700b",
   "metadata": {},
   "outputs": [],
   "source": [
    "valuess = [1, 2, 3]"
   ]
  },
  {
   "cell_type": "code",
   "execution_count": 18,
   "id": "ed079015-8eb5-4a27-8167-c5427975b029",
   "metadata": {},
   "outputs": [
    {
     "data": {
      "text/plain": [
       "6"
      ]
     },
     "execution_count": 18,
     "metadata": {},
     "output_type": "execute_result"
    }
   ],
   "source": [
    "sum(valuess)"
   ]
  },
  {
   "cell_type": "code",
   "execution_count": 19,
   "id": "3d70af0b-1be8-4caa-acd3-864864be72b5",
   "metadata": {},
   "outputs": [
    {
     "data": {
      "text/plain": [
       "3"
      ]
     },
     "execution_count": 19,
     "metadata": {},
     "output_type": "execute_result"
    }
   ],
   "source": [
    "len(valuess)"
   ]
  }
 ],
 "metadata": {
  "kernelspec": {
   "display_name": "Python 3 (ipykernel)",
   "language": "python",
   "name": "python3"
  },
  "language_info": {
   "codemirror_mode": {
    "name": "ipython",
    "version": 3
   },
   "file_extension": ".py",
   "mimetype": "text/x-python",
   "name": "python",
   "nbconvert_exporter": "python",
   "pygments_lexer": "ipython3",
   "version": "3.9.12"
  }
 },
 "nbformat": 4,
 "nbformat_minor": 5
}
